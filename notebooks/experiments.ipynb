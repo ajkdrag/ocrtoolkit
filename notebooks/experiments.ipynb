{
 "cells": [
  {
   "cell_type": "code",
   "execution_count": 1,
   "id": "9caf8868-a0bc-4f60-983c-6b0e58deef59",
   "metadata": {},
   "outputs": [],
   "source": [
    "import sys\n",
    "from pathlib import Path"
   ]
  },
  {
   "cell_type": "code",
   "execution_count": 4,
   "id": "0d20e8b4-8b73-4291-b5c5-15f666d28490",
   "metadata": {
    "scrolled": true
   },
   "outputs": [
    {
     "name": "stdout",
     "output_type": "stream",
     "text": [
      "Obtaining file:///home/ajkdrag/workspace/chequeparser\n",
      "  Preparing metadata (setup.py) ... \u001b[?25ldone\n",
      "\u001b[?25hRequirement already satisfied: numpy in /home/ajkdrag/workspace/chequeparser/venv/lib/python3.8/site-packages (from chequeparser==0.0.1) (1.24.4)\n",
      "Requirement already satisfied: pandas in /home/ajkdrag/workspace/chequeparser/venv/lib/python3.8/site-packages (from chequeparser==0.0.1) (2.0.3)\n",
      "Requirement already satisfied: opencv-python in /home/ajkdrag/workspace/chequeparser/venv/lib/python3.8/site-packages (from chequeparser==0.0.1) (4.9.0.80)\n",
      "Requirement already satisfied: matplotlib in /home/ajkdrag/workspace/chequeparser/venv/lib/python3.8/site-packages (from chequeparser==0.0.1) (3.7.4)\n",
      "Requirement already satisfied: tqdm in /home/ajkdrag/workspace/chequeparser/venv/lib/python3.8/site-packages (from chequeparser==0.0.1) (4.66.1)\n",
      "Requirement already satisfied: contourpy>=1.0.1 in /home/ajkdrag/workspace/chequeparser/venv/lib/python3.8/site-packages (from matplotlib->chequeparser==0.0.1) (1.1.1)\n",
      "Requirement already satisfied: cycler>=0.10 in /home/ajkdrag/workspace/chequeparser/venv/lib/python3.8/site-packages (from matplotlib->chequeparser==0.0.1) (0.12.1)\n",
      "Requirement already satisfied: fonttools>=4.22.0 in /home/ajkdrag/workspace/chequeparser/venv/lib/python3.8/site-packages (from matplotlib->chequeparser==0.0.1) (4.48.1)\n",
      "Requirement already satisfied: kiwisolver>=1.0.1 in /home/ajkdrag/workspace/chequeparser/venv/lib/python3.8/site-packages (from matplotlib->chequeparser==0.0.1) (1.4.5)\n",
      "Requirement already satisfied: packaging>=20.0 in /home/ajkdrag/workspace/chequeparser/venv/lib/python3.8/site-packages (from matplotlib->chequeparser==0.0.1) (23.2)\n",
      "Requirement already satisfied: pillow>=6.2.0 in /home/ajkdrag/workspace/chequeparser/venv/lib/python3.8/site-packages (from matplotlib->chequeparser==0.0.1) (10.2.0)\n",
      "Requirement already satisfied: pyparsing>=2.3.1 in /home/ajkdrag/workspace/chequeparser/venv/lib/python3.8/site-packages (from matplotlib->chequeparser==0.0.1) (3.1.1)\n",
      "Requirement already satisfied: python-dateutil>=2.7 in /home/ajkdrag/workspace/chequeparser/venv/lib/python3.8/site-packages (from matplotlib->chequeparser==0.0.1) (2.8.2)\n",
      "Requirement already satisfied: importlib-resources>=3.2.0 in /home/ajkdrag/workspace/chequeparser/venv/lib/python3.8/site-packages (from matplotlib->chequeparser==0.0.1) (6.1.1)\n",
      "Requirement already satisfied: pytz>=2020.1 in /home/ajkdrag/workspace/chequeparser/venv/lib/python3.8/site-packages (from pandas->chequeparser==0.0.1) (2024.1)\n",
      "Requirement already satisfied: tzdata>=2022.1 in /home/ajkdrag/workspace/chequeparser/venv/lib/python3.8/site-packages (from pandas->chequeparser==0.0.1) (2023.4)\n",
      "Requirement already satisfied: zipp>=3.1.0 in /home/ajkdrag/workspace/chequeparser/venv/lib/python3.8/site-packages (from importlib-resources>=3.2.0->matplotlib->chequeparser==0.0.1) (3.17.0)\n",
      "Requirement already satisfied: six>=1.5 in /home/ajkdrag/workspace/chequeparser/venv/lib/python3.8/site-packages (from python-dateutil>=2.7->matplotlib->chequeparser==0.0.1) (1.16.0)\n",
      "Installing collected packages: chequeparser\n",
      "  Attempting uninstall: chequeparser\n",
      "    Found existing installation: chequeparser 0.0.1\n",
      "    Uninstalling chequeparser-0.0.1:\n",
      "      Successfully uninstalled chequeparser-0.0.1\n",
      "  Running setup.py develop for chequeparser\n",
      "Successfully installed chequeparser-0.0.1\n"
     ]
    }
   ],
   "source": [
    "!{sys.executable} -m pip install -e .."
   ]
  },
  {
   "cell_type": "markdown",
   "id": "e382b2a4-a4df-4f39-8f39-bafd9333fdfd",
   "metadata": {},
   "source": [
    "## imports"
   ]
  },
  {
   "cell_type": "code",
   "execution_count": 5,
   "id": "38e7d429-077e-4875-9e45-738b9c00496d",
   "metadata": {},
   "outputs": [
    {
     "ename": "ModuleNotFoundError",
     "evalue": "No module named 'chequeparser'",
     "output_type": "error",
     "traceback": [
      "\u001b[0;31m---------------------------------------------------------------------------\u001b[0m",
      "\u001b[0;31mModuleNotFoundError\u001b[0m                       Traceback (most recent call last)",
      "Cell \u001b[0;32mIn[5], line 1\u001b[0m\n\u001b[0;32m----> 1\u001b[0m \u001b[38;5;28;01mfrom\u001b[39;00m \u001b[38;5;21;01mchequeparser\u001b[39;00m\u001b[38;5;21;01m.\u001b[39;00m\u001b[38;5;21;01mdatasets\u001b[39;00m\u001b[38;5;21;01m.\u001b[39;00m\u001b[38;5;21;01mfileds\u001b[39;00m \u001b[38;5;28;01mimport\u001b[39;00m FileDS\n",
      "File \u001b[0;32m~/workspace/chequeparser/src/chequeparser/datasets/fileds.py:4\u001b[0m\n\u001b[1;32m      1\u001b[0m \u001b[38;5;28;01mfrom\u001b[39;00m \u001b[38;5;21;01mpathlib\u001b[39;00m \u001b[38;5;28;01mimport\u001b[39;00m Path\n\u001b[1;32m      2\u001b[0m \u001b[38;5;28;01mfrom\u001b[39;00m \u001b[38;5;21;01mtyping\u001b[39;00m \u001b[38;5;28;01mimport\u001b[39;00m List, Union\n\u001b[0;32m----> 4\u001b[0m \u001b[38;5;28;01mfrom\u001b[39;00m \u001b[38;5;21;01mchequeparser\u001b[39;00m\u001b[38;5;21;01m.\u001b[39;00m\u001b[38;5;21;01mdatasets\u001b[39;00m\u001b[38;5;21;01m.\u001b[39;00m\u001b[38;5;21;01mbase\u001b[39;00m \u001b[38;5;28;01mimport\u001b[39;00m BaseDS\n\u001b[1;32m      5\u001b[0m \u001b[38;5;28;01mfrom\u001b[39;00m \u001b[38;5;21;01mchequeparser\u001b[39;00m\u001b[38;5;21;01m.\u001b[39;00m\u001b[38;5;21;01mutilities\u001b[39;00m\u001b[38;5;21;01m.\u001b[39;00m\u001b[38;5;21;01mimg_utils\u001b[39;00m \u001b[38;5;28;01mimport\u001b[39;00m apply_ops\n\u001b[1;32m      6\u001b[0m \u001b[38;5;28;01mfrom\u001b[39;00m \u001b[38;5;21;01mchequeparser\u001b[39;00m\u001b[38;5;21;01m.\u001b[39;00m\u001b[38;5;21;01mutilities\u001b[39;00m\u001b[38;5;21;01m.\u001b[39;00m\u001b[38;5;21;01mio_utils\u001b[39;00m \u001b[38;5;28;01mimport\u001b[39;00m get_image_files\n",
      "\u001b[0;31mModuleNotFoundError\u001b[0m: No module named 'chequeparser'"
     ]
    }
   ],
   "source": [
    "from chequeparser.datasets.fileds import FileDS"
   ]
  },
  {
   "cell_type": "code",
   "execution_count": null,
   "id": "6c82785f-8537-4199-a82b-fb87942fe470",
   "metadata": {},
   "outputs": [],
   "source": []
  },
  {
   "cell_type": "code",
   "execution_count": null,
   "id": "539959ae-8997-4758-a56b-a17eb64f9955",
   "metadata": {},
   "outputs": [],
   "source": []
  },
  {
   "cell_type": "markdown",
   "id": "4031f6de-971a-468d-99a9-c74d0610d3a7",
   "metadata": {},
   "source": [
    "## config"
   ]
  },
  {
   "cell_type": "code",
   "execution_count": null,
   "id": "2a54e7c5-ff07-4ba4-9ec4-836fea605543",
   "metadata": {},
   "outputs": [],
   "source": []
  },
  {
   "cell_type": "code",
   "execution_count": null,
   "id": "12645535-47da-4345-b283-05d83aa59dae",
   "metadata": {},
   "outputs": [],
   "source": []
  },
  {
   "cell_type": "code",
   "execution_count": null,
   "id": "fd2d19f6-786f-444f-8c7b-a587f1d61f0e",
   "metadata": {},
   "outputs": [],
   "source": []
  }
 ],
 "metadata": {
  "kernelspec": {
   "display_name": "chequeparser",
   "language": "python",
   "name": "chequeparser"
  },
  "language_info": {
   "codemirror_mode": {
    "name": "ipython",
    "version": 3
   },
   "file_extension": ".py",
   "mimetype": "text/x-python",
   "name": "python",
   "nbconvert_exporter": "python",
   "pygments_lexer": "ipython3",
   "version": "3.8.0"
  }
 },
 "nbformat": 4,
 "nbformat_minor": 5
}
